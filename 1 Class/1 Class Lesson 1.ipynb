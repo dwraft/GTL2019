{
 "cells": [
  {
   "cell_type": "markdown",
   "metadata": {
    "slideshow": {
     "slide_type": "skip"
    }
   },
   "source": [
    "$f = \\underbrace{x^3}_\\textrm{text 1} + \\underbrace{2}_\\textrm{text 2}$"
   ]
  },
  {
   "cell_type": "markdown",
   "metadata": {
    "slideshow": {
     "slide_type": "slide"
    }
   },
   "source": [
    "# Factoring\n",
    "\n"
   ]
  },
  {
   "cell_type": "markdown",
   "metadata": {
    "slideshow": {
     "slide_type": "slide"
    }
   },
   "source": [
    "## Factoring numbers:\n",
    "\n",
    "\n",
    "Factoring _breaks down_ a number in to the _product_ of _smaller numbers_. We can sometimes factor a number in multiple ways.\n",
    "\n",
    "\n"
   ]
  },
  {
   "cell_type": "markdown",
   "metadata": {
    "slideshow": {
     "slide_type": "slide"
    }
   },
   "source": [
    "# Factoring Numbers Examples:\n",
    "\n",
    "**12**\n",
    "\n",
    "* $12 = 1 \\cdot 12$\n",
    "* $12 = 2 \\cdot 6$\n",
    "* $12 = 3 \\cdot 4$\n",
    "\n",
    "Therefore, the factors of 12 are {1,2,3,4,12}"
   ]
  },
  {
   "cell_type": "markdown",
   "metadata": {
    "slideshow": {
     "slide_type": "slide"
    }
   },
   "source": [
    "# Factoring Numbers Examples:\n",
    "\n",
    "\n",
    "**6**\n",
    "\n",
    "* $6 = 1 \\cdot 6$\n",
    "* $6 = 2 \\cdot 3$\n",
    "\n",
    "Therefore the factors of 6 are {1,2,3,6}"
   ]
  },
  {
   "cell_type": "markdown",
   "metadata": {},
   "source": [
    "# Practice\n",
    "\n",
    "Factor these numbers into the product of two numbers (there may be more than one way to do this)\n",
    "\n",
    "\n",
    "* $15 = ? \\cdot ?$ \n",
    "* $24 = ? \\cdot ?$\n",
    "* $40 =  ? \\cdot ?$"
   ]
  },
  {
   "cell_type": "markdown",
   "metadata": {},
   "source": [
    "# Solutions\n",
    "\n",
    "Factor these numbers into the product of two numbers (don't use 1) (there may be more than one way to do this)\n",
    "\n",
    "\n",
    "* $15 = 5 \\cdot 3$ \n",
    "* $24 = 12 \\cdot 2$ or $3 \\cdot 8$ or $4 \\cdot 6$\n",
    "* $40 =  2 \\cdot 20$ or $4 \\cdot 20$ or $5 \\cdot 8$"
   ]
  },
  {
   "cell_type": "markdown",
   "metadata": {
    "slideshow": {
     "slide_type": "slide"
    }
   },
   "source": [
    "# Factoring Expressions\n",
    "\n",
    "\n",
    "Factoring an expression works in almost the exact same way!"
   ]
  },
  {
   "cell_type": "code",
   "execution_count": null,
   "metadata": {},
   "outputs": [],
   "source": []
  }
 ],
 "metadata": {
  "celltoolbar": "Slideshow",
  "kernelspec": {
   "display_name": "Python 3",
   "language": "python",
   "name": "python3"
  },
  "language_info": {
   "codemirror_mode": {
    "name": "ipython",
    "version": 3
   },
   "file_extension": ".py",
   "mimetype": "text/x-python",
   "name": "python",
   "nbconvert_exporter": "python",
   "pygments_lexer": "ipython3",
   "version": "3.6.5"
  }
 },
 "nbformat": 4,
 "nbformat_minor": 2
}
