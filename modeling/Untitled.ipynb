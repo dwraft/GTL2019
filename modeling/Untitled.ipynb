{
 "cells": [
  {
   "cell_type": "markdown",
   "metadata": {},
   "source": [
    "# Mathematical Modeling\n",
    "\n",
    "In the classroom, we often describe situations with a mathematical equation. In the hard sciences like physics and chemistry, we can often derive mathematical formuals through proofs, which is how we arrived at formulas like $F = ma$ or $PV = nRt$.  \n",
    "\n",
    "\n",
    "\n",
    "\n",
    "\n",
    "\n"
   ]
  },
  {
   "cell_type": "markdown",
   "metadata": {},
   "source": [
    "# Problems with only approximate solutions\n",
    "\n",
    "Problems such as:\n",
    "\n",
    "What will the price of a stock be in two weeks?  \n",
    "\n",
    "How well will a student do on the next math class?\n",
    "\n",
    "What type of animal is shown in an image?\n",
    "\n",
    "How many people will watch the World Cup this year?\n",
    "\n",
    "There is no simple solution to these problems! What can we do?"
   ]
  },
  {
   "cell_type": "markdown",
   "metadata": {},
   "source": [
    "# Deciding on a Model\n",
    "\n",
    "Collect real world data on the problem.\n",
    "\n",
    "Define an independent and a dependent variable. \n",
    "\n",
    "Pick an formula to relate the independent and the dependent variable.\n",
    "\n",
    "Calculate how accurate your model was to decide if you should change it\n",
    "\n",
    "\n"
   ]
  },
  {
   "cell_type": "markdown",
   "metadata": {},
   "source": [
    "# Loss Functions"
   ]
  },
  {
   "cell_type": "code",
   "execution_count": null,
   "metadata": {},
   "outputs": [],
   "source": []
  },
  {
   "cell_type": "code",
   "execution_count": null,
   "metadata": {},
   "outputs": [],
   "source": []
  },
  {
   "cell_type": "code",
   "execution_count": 27,
   "metadata": {},
   "outputs": [
    {
     "data": {
      "image/png": "[encoded data removed]",
      "text/plain": [
       "<Figure size 432x288 with 1 Axes>"
      ]
     },
     "metadata": {},
     "output_type": "display_data"
    }
   ],
   "source": [
    "import numpy as np\n",
    "import matplotlib.pyplot as plt\n",
    "x = np.linspace(0,100, 5)\n",
    "y = 2 * x + 10\n",
    "_=plt.scatter(x=x,y=y)"
   ]
  },
  {
   "cell_type": "code",
   "execution_count": null,
   "metadata": {},
   "outputs": [],
   "source": []
  },
  {
   "cell_type": "code",
   "execution_count": null,
   "metadata": {},
   "outputs": [],
   "source": []
  },
  {
   "cell_type": "code",
   "execution_count": null,
   "metadata": {},
   "outputs": [],
   "source": []
  }
 ],
 "metadata": {
  "kernelspec": {
   "display_name": "Python 3",
   "language": "python",
   "name": "python3"
  },
  "language_info": {
   "codemirror_mode": {
    "name": "ipython",
    "version": 3
   },
   "file_extension": ".py",
   "mimetype": "text/x-python",
   "name": "python",
   "nbconvert_exporter": "python",
   "pygments_lexer": "ipython3",
   "version": "3.6.5"
  }
 },
 "nbformat": 4,
 "nbformat_minor": 2
}
