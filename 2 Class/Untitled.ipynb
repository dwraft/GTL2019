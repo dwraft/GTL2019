{
 "cells": [
  {
   "cell_type": "markdown",
   "metadata": {},
   "source": [
    "# Economic Problem\n",
    "\n",
    "\n",
    "Marco starts a car company. It costs €10000 to make one car.\n",
    "\n",
    "\n",
    "He does research on other car companies, and finds that his sales $s$ will be \n",
    "\n",
    "$$s = 70000 - p$$\n",
    "\n",
    "where $p$ is the price of the car.\n",
    "\n",
    "\n",
    "Marco wants to make the most possible profit.\n",
    "\n",
    "\n",
    "Profit = Sales - Cost.\n",
    "Cost = Sales * Price to Make\n",
    "\n",
    "\n",
    "Profit = \n",
    "\n"
   ]
  },
  {
   "cell_type": "code",
   "execution_count": null,
   "metadata": {},
   "outputs": [],
   "source": []
  }
 ],
 "metadata": {
  "kernelspec": {
   "display_name": "Python 3",
   "language": "python",
   "name": "python3"
  },
  "language_info": {
   "codemirror_mode": {
    "name": "ipython",
    "version": 3
   },
   "file_extension": ".py",
   "mimetype": "text/x-python",
   "name": "python",
   "nbconvert_exporter": "python",
   "pygments_lexer": "ipython3",
   "version": "3.6.5"
  }
 },
 "nbformat": 4,
 "nbformat_minor": 2
}
